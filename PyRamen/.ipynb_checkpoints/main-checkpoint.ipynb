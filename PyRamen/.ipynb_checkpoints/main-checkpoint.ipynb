{
 "cells": [
  {
   "cell_type": "code",
   "execution_count": 9,
   "metadata": {},
   "outputs": [
    {
     "name": "stdout",
     "output_type": "stream",
     "text": [
      "/Users/AndrewSM/Education/George Washington University FinTech Bootcamp/Homework/python-homework/PyRamen\n",
      "['item', 'category', 'description', 'price', 'cost']\n",
      "['Line_Item_ID', 'Date', 'Credit_Card_Number', 'Quantity', 'Menu_Item']\n"
     ]
    }
   ],
   "source": [
    "# Import pertinent python libraries\n",
    "import csv\n",
    "from pathlib import Path\n",
    "\n",
    "\n",
    "\n",
    "# Establish current directory\n",
    "current_dir = Path.cwd()\n",
    "print(current_dir)\n",
    "\n",
    "\n",
    "\n",
    "# Set file paths for menu data and sales data\n",
    "menu_csv = current_dir/'02-Homework_02-Python_Instructions_PyRamen_Resources_menu_data.csv'\n",
    "sales_csv = current_dir/'02-Homework_02-Python_Instructions_PyRamen_Resources_sales_data.csv'\n",
    "\n",
    "\n",
    "# Read menu data\n",
    "with open(menu_csv) as menu_data:\n",
    "    \n",
    "    csv_reader_menu = csv.reader(menu_data, delimiter = ',')\n",
    "    \n",
    "    menu_header = next(csv_reader_menu)\n",
    "    \n",
    "print(menu_header)\n",
    "\n",
    "\n",
    "# Read sales data\n",
    "with open(sales_csv) as sales_data:\n",
    "    \n",
    "    csv_reader_sales = csv.reader(sales_data, delimiter = ',')\n",
    "    \n",
    "    sales_header = next(csv_reader_sales)\n",
    "    \n",
    "print(sales_header)\n",
    "    \n",
    "    \n",
    "\n"
   ]
  },
  {
   "cell_type": "code",
   "execution_count": null,
   "metadata": {},
   "outputs": [],
   "source": []
  }
 ],
 "metadata": {
  "kernelspec": {
   "display_name": "Python 3",
   "language": "python",
   "name": "python3"
  },
  "language_info": {
   "codemirror_mode": {
    "name": "ipython",
    "version": 3
   },
   "file_extension": ".py",
   "mimetype": "text/x-python",
   "name": "python",
   "nbconvert_exporter": "python",
   "pygments_lexer": "ipython3",
   "version": "3.7.7"
  }
 },
 "nbformat": 4,
 "nbformat_minor": 4
}
